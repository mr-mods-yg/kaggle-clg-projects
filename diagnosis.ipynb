{
 "cells": [
  {
   "cell_type": "markdown",
   "id": "44291cfe",
   "metadata": {
    "papermill": {
     "duration": 0.004016,
     "end_time": "2024-11-27T17:25:35.162966",
     "exception": false,
     "start_time": "2024-11-27T17:25:35.158950",
     "status": "completed"
    },
    "tags": []
   },
   "source": [
    "# Objective :To build and evaluate a machine learning model for diagnosing heart disease using medical data, with metrics like accuracy, precision, and recall."
   ]
  },
  {
   "cell_type": "markdown",
   "id": "af433503",
   "metadata": {
    "papermill": {
     "duration": 0.003406,
     "end_time": "2024-11-27T17:25:35.170200",
     "exception": false,
     "start_time": "2024-11-27T17:25:35.166794",
     "status": "completed"
    },
    "tags": []
   },
   "source": [
    "**Import Libraries**"
   ]
  },
  {
   "cell_type": "code",
   "execution_count": 1,
   "id": "7697e2a3",
   "metadata": {
    "execution": {
     "iopub.execute_input": "2024-11-27T17:25:35.179892Z",
     "iopub.status.busy": "2024-11-27T17:25:35.179465Z",
     "iopub.status.idle": "2024-11-27T17:25:37.754517Z",
     "shell.execute_reply": "2024-11-27T17:25:37.752561Z"
    },
    "papermill": {
     "duration": 2.583538,
     "end_time": "2024-11-27T17:25:37.757507",
     "exception": false,
     "start_time": "2024-11-27T17:25:35.173969",
     "status": "completed"
    },
    "tags": []
   },
   "outputs": [],
   "source": [
    "import pandas as pd\n",
    "from sklearn.model_selection import train_test_split\n",
    "from sklearn.ensemble import RandomForestClassifier\n",
    "from sklearn.preprocessing import StandardScaler\n",
    "from sklearn.metrics import accuracy_score, precision_score, recall_score, classification_report"
   ]
  },
  {
   "cell_type": "markdown",
   "id": "a7f1500a",
   "metadata": {
    "papermill": {
     "duration": 0.003378,
     "end_time": "2024-11-27T17:25:37.764945",
     "exception": false,
     "start_time": "2024-11-27T17:25:37.761567",
     "status": "completed"
    },
    "tags": []
   },
   "source": [
    "**Load and Inspect the Dataset**"
   ]
  },
  {
   "cell_type": "code",
   "execution_count": 2,
   "id": "c1702b16",
   "metadata": {
    "execution": {
     "iopub.execute_input": "2024-11-27T17:25:37.775384Z",
     "iopub.status.busy": "2024-11-27T17:25:37.774794Z",
     "iopub.status.idle": "2024-11-27T17:25:38.778783Z",
     "shell.execute_reply": "2024-11-27T17:25:38.777675Z"
    },
    "papermill": {
     "duration": 1.012217,
     "end_time": "2024-11-27T17:25:38.781101",
     "exception": false,
     "start_time": "2024-11-27T17:25:37.768884",
     "status": "completed"
    },
    "tags": []
   },
   "outputs": [
    {
     "name": "stdout",
     "output_type": "stream",
     "text": [
      "First 5 rows of the dataset:\n",
      "   HeartDiseaseorAttack  HighBP  HighChol  CholCheck   BMI  Smoker  Stroke  \\\n",
      "0                   0.0     1.0       1.0        1.0  40.0     1.0     0.0   \n",
      "1                   0.0     0.0       0.0        0.0  25.0     1.0     0.0   \n",
      "2                   0.0     1.0       1.0        1.0  28.0     0.0     0.0   \n",
      "3                   0.0     1.0       0.0        1.0  27.0     0.0     0.0   \n",
      "4                   0.0     1.0       1.0        1.0  24.0     0.0     0.0   \n",
      "\n",
      "   Diabetes  PhysActivity  Fruits  ...  AnyHealthcare  NoDocbcCost  GenHlth  \\\n",
      "0       0.0           0.0     0.0  ...            1.0          0.0      5.0   \n",
      "1       0.0           1.0     0.0  ...            0.0          1.0      3.0   \n",
      "2       0.0           0.0     1.0  ...            1.0          1.0      5.0   \n",
      "3       0.0           1.0     1.0  ...            1.0          0.0      2.0   \n",
      "4       0.0           1.0     1.0  ...            1.0          0.0      2.0   \n",
      "\n",
      "   MentHlth  PhysHlth  DiffWalk  Sex   Age  Education  Income  \n",
      "0      18.0      15.0       1.0  0.0   9.0        4.0     3.0  \n",
      "1       0.0       0.0       0.0  0.0   7.0        6.0     1.0  \n",
      "2      30.0      30.0       1.0  0.0   9.0        4.0     8.0  \n",
      "3       0.0       0.0       0.0  0.0  11.0        3.0     6.0  \n",
      "4       3.0       0.0       0.0  0.0  11.0        5.0     4.0  \n",
      "\n",
      "[5 rows x 22 columns]\n"
     ]
    }
   ],
   "source": [
    "data = pd.read_csv('/kaggle/input/heart-disease-health-indicators-dataset/heart_disease_health_indicators_BRFSS2015.csv')\n",
    "\n",
    "# Display dataset structure\n",
    "print(\"First 5 rows of the dataset:\")\n",
    "print(data.head())"
   ]
  },
  {
   "cell_type": "markdown",
   "id": "12059d0c",
   "metadata": {
    "papermill": {
     "duration": 0.003328,
     "end_time": "2024-11-27T17:25:38.788506",
     "exception": false,
     "start_time": "2024-11-27T17:25:38.785178",
     "status": "completed"
    },
    "tags": []
   },
   "source": [
    "**Feature Selection and Target Variable Identification**"
   ]
  },
  {
   "cell_type": "code",
   "execution_count": 3,
   "id": "91c2184f",
   "metadata": {
    "execution": {
     "iopub.execute_input": "2024-11-27T17:25:38.797971Z",
     "iopub.status.busy": "2024-11-27T17:25:38.797022Z",
     "iopub.status.idle": "2024-11-27T17:25:38.823200Z",
     "shell.execute_reply": "2024-11-27T17:25:38.821974Z"
    },
    "papermill": {
     "duration": 0.033617,
     "end_time": "2024-11-27T17:25:38.825718",
     "exception": false,
     "start_time": "2024-11-27T17:25:38.792101",
     "status": "completed"
    },
    "tags": []
   },
   "outputs": [],
   "source": [
    "# Set the target column directly\n",
    "target_column = \"HeartDiseaseorAttack\"  # Specify the target column name here\n",
    "X = data.drop(columns=[target_column])\n",
    "y = data[target_column]"
   ]
  },
  {
   "cell_type": "markdown",
   "id": "b1625eb2",
   "metadata": {
    "papermill": {
     "duration": 0.003395,
     "end_time": "2024-11-27T17:25:38.834174",
     "exception": false,
     "start_time": "2024-11-27T17:25:38.830779",
     "status": "completed"
    },
    "tags": []
   },
   "source": [
    "**Standardize the Features**"
   ]
  },
  {
   "cell_type": "code",
   "execution_count": 4,
   "id": "8ef73e44",
   "metadata": {
    "execution": {
     "iopub.execute_input": "2024-11-27T17:25:38.843354Z",
     "iopub.status.busy": "2024-11-27T17:25:38.842910Z",
     "iopub.status.idle": "2024-11-27T17:25:38.929403Z",
     "shell.execute_reply": "2024-11-27T17:25:38.928053Z"
    },
    "papermill": {
     "duration": 0.094741,
     "end_time": "2024-11-27T17:25:38.932492",
     "exception": false,
     "start_time": "2024-11-27T17:25:38.837751",
     "status": "completed"
    },
    "tags": []
   },
   "outputs": [],
   "source": [
    "# Scale the features for uniformity\n",
    "scaler = StandardScaler()\n",
    "X = scaler.fit_transform(X)"
   ]
  },
  {
   "cell_type": "markdown",
   "id": "ddedbe95",
   "metadata": {
    "papermill": {
     "duration": 0.003718,
     "end_time": "2024-11-27T17:25:38.940089",
     "exception": false,
     "start_time": "2024-11-27T17:25:38.936371",
     "status": "completed"
    },
    "tags": []
   },
   "source": [
    "**Split the Data into Training and Testing Sets**"
   ]
  },
  {
   "cell_type": "code",
   "execution_count": 5,
   "id": "d2e24bb0",
   "metadata": {
    "execution": {
     "iopub.execute_input": "2024-11-27T17:25:38.949403Z",
     "iopub.status.busy": "2024-11-27T17:25:38.949007Z",
     "iopub.status.idle": "2024-11-27T17:25:39.047984Z",
     "shell.execute_reply": "2024-11-27T17:25:39.046719Z"
    },
    "papermill": {
     "duration": 0.106407,
     "end_time": "2024-11-27T17:25:39.050379",
     "exception": false,
     "start_time": "2024-11-27T17:25:38.943972",
     "status": "completed"
    },
    "tags": []
   },
   "outputs": [],
   "source": [
    "# Split the data into training and testing sets\n",
    "X_train, X_test, y_train, y_test = train_test_split(X, y, test_size=0.3, random_state=42)"
   ]
  },
  {
   "cell_type": "markdown",
   "id": "8a6e3312",
   "metadata": {
    "papermill": {
     "duration": 0.0035,
     "end_time": "2024-11-27T17:25:39.057692",
     "exception": false,
     "start_time": "2024-11-27T17:25:39.054192",
     "status": "completed"
    },
    "tags": []
   },
   "source": [
    "**Initialize and Train the Model**"
   ]
  },
  {
   "cell_type": "code",
   "execution_count": 6,
   "id": "e1c1a758",
   "metadata": {
    "execution": {
     "iopub.execute_input": "2024-11-27T17:25:39.067311Z",
     "iopub.status.busy": "2024-11-27T17:25:39.066501Z",
     "iopub.status.idle": "2024-11-27T17:25:59.927495Z",
     "shell.execute_reply": "2024-11-27T17:25:59.925902Z"
    },
    "papermill": {
     "duration": 20.868385,
     "end_time": "2024-11-27T17:25:59.929917",
     "exception": false,
     "start_time": "2024-11-27T17:25:39.061532",
     "status": "completed"
    },
    "tags": []
   },
   "outputs": [
    {
     "data": {
      "text/html": [
       "<style>#sk-container-id-1 {color: black;background-color: white;}#sk-container-id-1 pre{padding: 0;}#sk-container-id-1 div.sk-toggleable {background-color: white;}#sk-container-id-1 label.sk-toggleable__label {cursor: pointer;display: block;width: 100%;margin-bottom: 0;padding: 0.3em;box-sizing: border-box;text-align: center;}#sk-container-id-1 label.sk-toggleable__label-arrow:before {content: \"▸\";float: left;margin-right: 0.25em;color: #696969;}#sk-container-id-1 label.sk-toggleable__label-arrow:hover:before {color: black;}#sk-container-id-1 div.sk-estimator:hover label.sk-toggleable__label-arrow:before {color: black;}#sk-container-id-1 div.sk-toggleable__content {max-height: 0;max-width: 0;overflow: hidden;text-align: left;background-color: #f0f8ff;}#sk-container-id-1 div.sk-toggleable__content pre {margin: 0.2em;color: black;border-radius: 0.25em;background-color: #f0f8ff;}#sk-container-id-1 input.sk-toggleable__control:checked~div.sk-toggleable__content {max-height: 200px;max-width: 100%;overflow: auto;}#sk-container-id-1 input.sk-toggleable__control:checked~label.sk-toggleable__label-arrow:before {content: \"▾\";}#sk-container-id-1 div.sk-estimator input.sk-toggleable__control:checked~label.sk-toggleable__label {background-color: #d4ebff;}#sk-container-id-1 div.sk-label input.sk-toggleable__control:checked~label.sk-toggleable__label {background-color: #d4ebff;}#sk-container-id-1 input.sk-hidden--visually {border: 0;clip: rect(1px 1px 1px 1px);clip: rect(1px, 1px, 1px, 1px);height: 1px;margin: -1px;overflow: hidden;padding: 0;position: absolute;width: 1px;}#sk-container-id-1 div.sk-estimator {font-family: monospace;background-color: #f0f8ff;border: 1px dotted black;border-radius: 0.25em;box-sizing: border-box;margin-bottom: 0.5em;}#sk-container-id-1 div.sk-estimator:hover {background-color: #d4ebff;}#sk-container-id-1 div.sk-parallel-item::after {content: \"\";width: 100%;border-bottom: 1px solid gray;flex-grow: 1;}#sk-container-id-1 div.sk-label:hover label.sk-toggleable__label {background-color: #d4ebff;}#sk-container-id-1 div.sk-serial::before {content: \"\";position: absolute;border-left: 1px solid gray;box-sizing: border-box;top: 0;bottom: 0;left: 50%;z-index: 0;}#sk-container-id-1 div.sk-serial {display: flex;flex-direction: column;align-items: center;background-color: white;padding-right: 0.2em;padding-left: 0.2em;position: relative;}#sk-container-id-1 div.sk-item {position: relative;z-index: 1;}#sk-container-id-1 div.sk-parallel {display: flex;align-items: stretch;justify-content: center;background-color: white;position: relative;}#sk-container-id-1 div.sk-item::before, #sk-container-id-1 div.sk-parallel-item::before {content: \"\";position: absolute;border-left: 1px solid gray;box-sizing: border-box;top: 0;bottom: 0;left: 50%;z-index: -1;}#sk-container-id-1 div.sk-parallel-item {display: flex;flex-direction: column;z-index: 1;position: relative;background-color: white;}#sk-container-id-1 div.sk-parallel-item:first-child::after {align-self: flex-end;width: 50%;}#sk-container-id-1 div.sk-parallel-item:last-child::after {align-self: flex-start;width: 50%;}#sk-container-id-1 div.sk-parallel-item:only-child::after {width: 0;}#sk-container-id-1 div.sk-dashed-wrapped {border: 1px dashed gray;margin: 0 0.4em 0.5em 0.4em;box-sizing: border-box;padding-bottom: 0.4em;background-color: white;}#sk-container-id-1 div.sk-label label {font-family: monospace;font-weight: bold;display: inline-block;line-height: 1.2em;}#sk-container-id-1 div.sk-label-container {text-align: center;}#sk-container-id-1 div.sk-container {/* jupyter's `normalize.less` sets `[hidden] { display: none; }` but bootstrap.min.css set `[hidden] { display: none !important; }` so we also need the `!important` here to be able to override the default hidden behavior on the sphinx rendered scikit-learn.org. See: https://github.com/scikit-learn/scikit-learn/issues/21755 */display: inline-block !important;position: relative;}#sk-container-id-1 div.sk-text-repr-fallback {display: none;}</style><div id=\"sk-container-id-1\" class=\"sk-top-container\"><div class=\"sk-text-repr-fallback\"><pre>RandomForestClassifier(random_state=42)</pre><b>In a Jupyter environment, please rerun this cell to show the HTML representation or trust the notebook. <br />On GitHub, the HTML representation is unable to render, please try loading this page with nbviewer.org.</b></div><div class=\"sk-container\" hidden><div class=\"sk-item\"><div class=\"sk-estimator sk-toggleable\"><input class=\"sk-toggleable__control sk-hidden--visually\" id=\"sk-estimator-id-1\" type=\"checkbox\" checked><label for=\"sk-estimator-id-1\" class=\"sk-toggleable__label sk-toggleable__label-arrow\">RandomForestClassifier</label><div class=\"sk-toggleable__content\"><pre>RandomForestClassifier(random_state=42)</pre></div></div></div></div></div>"
      ],
      "text/plain": [
       "RandomForestClassifier(random_state=42)"
      ]
     },
     "execution_count": 6,
     "metadata": {},
     "output_type": "execute_result"
    }
   ],
   "source": [
    "# Initialize and train the model\n",
    "model = RandomForestClassifier(random_state=42, n_estimators=100)\n",
    "model.fit(X_train, y_train)"
   ]
  },
  {
   "cell_type": "markdown",
   "id": "c2cef8d1",
   "metadata": {
    "papermill": {
     "duration": 0.003801,
     "end_time": "2024-11-27T17:25:59.938123",
     "exception": false,
     "start_time": "2024-11-27T17:25:59.934322",
     "status": "completed"
    },
    "tags": []
   },
   "source": [
    "**Make Predictions**"
   ]
  },
  {
   "cell_type": "code",
   "execution_count": 7,
   "id": "564d05e3",
   "metadata": {
    "execution": {
     "iopub.execute_input": "2024-11-27T17:25:59.947437Z",
     "iopub.status.busy": "2024-11-27T17:25:59.947024Z",
     "iopub.status.idle": "2024-11-27T17:26:02.557398Z",
     "shell.execute_reply": "2024-11-27T17:26:02.556335Z"
    },
    "papermill": {
     "duration": 2.618327,
     "end_time": "2024-11-27T17:26:02.560237",
     "exception": false,
     "start_time": "2024-11-27T17:25:59.941910",
     "status": "completed"
    },
    "tags": []
   },
   "outputs": [],
   "source": [
    "# Make predictions\n",
    "y_pred = model.predict(X_test)"
   ]
  },
  {
   "cell_type": "markdown",
   "id": "8f893250",
   "metadata": {
    "papermill": {
     "duration": 0.003602,
     "end_time": "2024-11-27T17:26:02.567766",
     "exception": false,
     "start_time": "2024-11-27T17:26:02.564164",
     "status": "completed"
    },
    "tags": []
   },
   "source": [
    "**Evaluate the Model**"
   ]
  },
  {
   "cell_type": "code",
   "execution_count": 8,
   "id": "b91867ef",
   "metadata": {
    "execution": {
     "iopub.execute_input": "2024-11-27T17:26:02.577127Z",
     "iopub.status.busy": "2024-11-27T17:26:02.576725Z",
     "iopub.status.idle": "2024-11-27T17:26:02.843454Z",
     "shell.execute_reply": "2024-11-27T17:26:02.841913Z"
    },
    "papermill": {
     "duration": 0.274437,
     "end_time": "2024-11-27T17:26:02.845934",
     "exception": false,
     "start_time": "2024-11-27T17:26:02.571497",
     "status": "completed"
    },
    "tags": []
   },
   "outputs": [
    {
     "name": "stdout",
     "output_type": "stream",
     "text": [
      "\n",
      "Model Evaluation:\n",
      "Accuracy: 0.90\n",
      "Precision: 0.87\n",
      "Recall: 0.90\n",
      "\n",
      "Classification Report:\n",
      "              precision    recall  f1-score   support\n",
      "\n",
      "         0.0       0.92      0.98      0.95     69007\n",
      "         1.0       0.44      0.12      0.18      7097\n",
      "\n",
      "    accuracy                           0.90     76104\n",
      "   macro avg       0.68      0.55      0.57     76104\n",
      "weighted avg       0.87      0.90      0.88     76104\n",
      "\n"
     ]
    }
   ],
   "source": [
    "# Evaluate the model\n",
    "accuracy = accuracy_score(y_test, y_pred)\n",
    "precision = precision_score(y_test, y_pred, average='weighted', zero_division=0)\n",
    "recall = recall_score(y_test, y_pred, average='weighted', zero_division=0)\n",
    "\n",
    "# Display results\n",
    "print(\"\\nModel Evaluation:\")\n",
    "print(f\"Accuracy: {accuracy:.2f}\")\n",
    "print(f\"Precision: {precision:.2f}\")\n",
    "print(f\"Recall: {recall:.2f}\")\n",
    "print(\"\\nClassification Report:\")\n",
    "print(classification_report(y_test, y_pred, zero_division=0))"
   ]
  }
 ],
 "metadata": {
  "kaggle": {
   "accelerator": "none",
   "dataSources": [
    {
     "datasetId": 1690571,
     "sourceId": 3277449,
     "sourceType": "datasetVersion"
    }
   ],
   "dockerImageVersionId": 30786,
   "isGpuEnabled": false,
   "isInternetEnabled": true,
   "language": "python",
   "sourceType": "notebook"
  },
  "kernelspec": {
   "display_name": "Python (Pyodide)",
   "language": "python",
   "name": "python"
  },
  "language_info": {
   "codemirror_mode": {
    "name": "ipython",
    "version": 3
   },
   "file_extension": ".py",
   "mimetype": "text/x-python",
   "name": "python",
   "nbconvert_exporter": "python",
   "pygments_lexer": "ipython3",
   "version": "3.10.14"
  },
  "papermill": {
   "default_parameters": {},
   "duration": 31.612672,
   "end_time": "2024-11-27T17:26:03.572304",
   "environment_variables": {},
   "exception": null,
   "input_path": "__notebook__.ipynb",
   "output_path": "__notebook__.ipynb",
   "parameters": {},
   "start_time": "2024-11-27T17:25:31.959632",
   "version": "2.6.0"
  }
 },
 "nbformat": 4,
 "nbformat_minor": 5
}
